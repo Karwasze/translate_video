{
  "cells": [
    {
      "cell_type": "markdown",
      "source": [
        "<a href=\"https://githubtocolab.com/Karwasze/translate_video/blob/main/translate_video.ipynb\" target=\"_parent\"><img src=\"https://colab.research.google.com/assets/colab-badge.svg\" alt=\"Open in Colab\"/></a>"
      ],
      "metadata": {
        "id": "sTpgXThlAzzx"
      }
    },
    {
      "cell_type": "markdown",
      "source": [
        "**Mount Google Drive**"
      ],
      "metadata": {
        "id": "A_lntvvmoLIT"
      }
    },
    {
      "cell_type": "code",
      "source": [
        "#@title\n",
        "from google.colab import drive\n",
        "drive.mount('/content/drive/')"
      ],
      "metadata": {
        "id": "PCv8iCjzAMf4",
        "cellView": "form"
      },
      "execution_count": null,
      "outputs": []
    },
    {
      "cell_type": "markdown",
      "source": [
        "**Specify parameters**\n",
        "\n",
        "* path_fo_file: absolute path to your file\n",
        "* language: language of your input video (**subtitles will be always generated in english**) "
      ],
      "metadata": {
        "id": "8mQoj8F8oN9R"
      }
    },
    {
      "cell_type": "code",
      "source": [
        "import os\n",
        "path_to_file = '/content/drive/MyDrive/venture_bros_00.mkv' #@param {type:\"string\"}\n",
        "language = 'English' #@param [\"Afrikaans\", \"Albanian\", \"Amharic\", \"Arabic\", \"Armenian\", \"Assamese\", \"Azerbaijani\", \"Bashkir\", \"Basque\", \"Belarusian\", \"Bengali\", \"Bosnian\", \"Breton\", \"Bulgarian\", \"Burmese\", \"Castilian\", \"Catalan\", \"Chinese\", \"Croatian\", \"Czech\", \"Danish\", \"Dutch\", \"English\", \"Estonian\", \"Faroese\", \"Finnish\", \"Flemish\", \"French\", \"Galician\", \"Georgian\", \"German\", \"Greek\", \"Gujarati\", \"Haitian\", \"Creole\", \"Hausa\", \"Hawaiian\", \"Hebrew\", \"Hindi\", \"Hungarian\", \"Icelandic\", \"Indonesian\", \"Italian\", \"Japanese\", \"Javanese\", \"Kannada\", \"Kazakh\", \"Khmer\", \"Korean\", \"Lao\", \"Latin\", \"Latvian\", \"Letzeburgesch\", \"Lingala\", \"Lithuanian\", \"Luxembourgish\", \"Macedonian\", \"Malagasy\", \"Malay\", \"Malayalam\", \"Maltese\", \"Maori\", \"Marathi\", \"Moldavian\", \"Moldovan\", \"Mongolian\", \"Myanmar\", \"Nepali\", \"Norwegian\", \"Nynorsk\", \"Occitan\", \"Panjabi\", \"Pashto\", \"Persian\", \"Polish\", \"Portuguese\", \"Punjabi\", \"Pushto\", \"Romanian\", \"Russian\", \"Sanskrit\", \"Serbian\", \"Shona\", \"Sindhi\", \"Sinhala\", \"Sinhalese\", \"Slovak\", \"Slovenian\", \"Somali\", \"Spanish\", \"Sundanese\", \"Swahili\", \"Swedish\", \"Tagalog\", \"Tajik\", \"Tamil\", \"Tatar\", \"Telugu\", \"Thai\", \"Tibetan\", \"Turkish\", \"Turkmen\", \"Ukrainian\", \"Urdu\", \"Uzbek\", \"Valencian\", \"Vietnamese\",\"Welsh\", \"Yiddish\", \"Yoruba\"]\n",
        "path_to_file_no_extension = os.path.splitext(path_to_file)[0]\n"
      ],
      "metadata": {
        "cellView": "form",
        "id": "2F8XQxAnjnhl"
      },
      "execution_count": 2,
      "outputs": []
    },
    {
      "cell_type": "markdown",
      "source": [
        "**Install prerequisites**"
      ],
      "metadata": {
        "id": "Ciqol-K4gaer"
      }
    },
    {
      "cell_type": "code",
      "execution_count": null,
      "metadata": {
        "id": "JXSl71Ps6445",
        "cellView": "form"
      },
      "outputs": [],
      "source": [
        "#@title\n",
        "! pip install git+https://github.com/openai/whisper.git\n",
        "! pip install setuptools-rust\n",
        "\n",
        "! apt install ffmpeg wget\n",
        "! git clone https://github.com/jianfch/stable-ts.git\n",
        "%cd stable-ts"
      ]
    },
    {
      "cell_type": "markdown",
      "source": [
        "**Convert video to mp3**"
      ],
      "metadata": {
        "id": "kxy8KXc91an_"
      }
    },
    {
      "cell_type": "code",
      "source": [
        "#@title\n",
        "os.environ['PATH_TO_FILE'] = path_to_file\n",
        "os.environ['PATH_TO_FILE_NO_EXTENSION'] = path_to_file_no_extension\n",
        "\n",
        "! ffmpeg -i $PATH_TO_FILE $PATH_TO_FILE_NO_EXTENSION.mp3\n"
      ],
      "metadata": {
        "cellView": "form",
        "id": "5MBMTZyi1aFn"
      },
      "execution_count": null,
      "outputs": []
    },
    {
      "cell_type": "markdown",
      "source": [
        "**Transcribe/translate video**"
      ],
      "metadata": {
        "id": "Fp4mnmK_wshq"
      }
    },
    {
      "cell_type": "code",
      "source": [
        "#@title\n",
        "import whisper\n",
        "from stable_whisper import modify_model\n",
        "from stable_whisper import results_to_sentence_srt\n",
        "\n",
        "model = whisper.load_model('large')\n",
        "model.parameters(f'--language {language}')\n",
        "modify_model(model)\n",
        "\n",
        "results = model.transcribe(path_to_file_no_extension + '.mp3', language=language, task=\"translate\", temperature=0)\n",
        "results_to_sentence_srt(results, path_to_file_no_extension + '.srt')  \n",
        "\n",
        "\n",
        "\n"
      ],
      "metadata": {
        "id": "ONgZ6n9bd-7j",
        "cellView": "form"
      },
      "execution_count": null,
      "outputs": []
    },
    {
      "cell_type": "markdown",
      "source": [
        "**Remove intermediate .mp3 file**"
      ],
      "metadata": {
        "id": "4psAt-XywxwU"
      }
    },
    {
      "cell_type": "code",
      "source": [
        "#@title\n",
        "import os\n",
        "os.remove(path_to_file_no_extension + '.mp3')"
      ],
      "metadata": {
        "cellView": "form",
        "id": "4utIyE8UvB3L"
      },
      "execution_count": 6,
      "outputs": []
    },
    {
      "cell_type": "markdown",
      "source": [
        "**Create .mp4 file with subtitles**"
      ],
      "metadata": {
        "id": "Hgh0pia6oe8I"
      }
    },
    {
      "cell_type": "code",
      "source": [
        "#@title\n",
        "os.environ['PATH_TO_FILE'] = path_to_file\n",
        "os.environ['PATH_TO_FILE_NO_EXTENSION'] = path_to_file_no_extension\n",
        "\n",
        "! ffmpeg -i $PATH_TO_FILE -y -i $PATH_TO_FILE_NO_EXTENSION.srt -c copy -c:s mov_text $PATH_TO_FILE_NO_EXTENSION.mp4"
      ],
      "metadata": {
        "id": "ckhaGaQGg2b0",
        "cellView": "form"
      },
      "execution_count": null,
      "outputs": []
    },
    {
      "cell_type": "markdown",
      "source": [
        "**Remove intermediate .srt file**"
      ],
      "metadata": {
        "id": "Uk9TojGIC1Pe"
      }
    },
    {
      "cell_type": "code",
      "source": [
        "#@title\n",
        "import os\n",
        "os.remove(path_to_file_no_extension + '.srt')"
      ],
      "metadata": {
        "cellView": "form",
        "id": "xbl5oTncC0qP"
      },
      "execution_count": 8,
      "outputs": []
    }
  ],
  "metadata": {
    "accelerator": "GPU",
    "colab": {
      "provenance": []
    },
    "gpuClass": "standard",
    "kernelspec": {
      "display_name": "Python 3",
      "name": "python3"
    },
    "language_info": {
      "name": "python"
    }
  },
  "nbformat": 4,
  "nbformat_minor": 0
}
